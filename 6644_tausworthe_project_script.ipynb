{
 "cells": [
  {
   "cell_type": "markdown",
   "id": "d1f67c03",
   "metadata": {},
   "source": [
    "## To begin, let's establish a general order of operations for this project:"
   ]
  },
  {
   "cell_type": "markdown",
   "id": "df12d0cb",
   "metadata": {},
   "source": [
    "### - Research good parameter values for a Tausworthe generator (non-code work)"
   ]
  },
  {
   "cell_type": "markdown",
   "id": "29d878e8",
   "metadata": {},
   "source": [
    "### - Implement the generator.\n",
    "#### (store the outputs in list format, for easy computation in later steps!)"
   ]
  },
  {
   "cell_type": "code",
   "execution_count": 66,
   "id": "393c0e45",
   "metadata": {},
   "outputs": [],
   "source": [
    "def tausworthe(seed = 123456789101112, quantity = 100):\n",
    "    assert type(seed) == int, 'Your seed must be an integer!'\n",
    "    assert len(str(seed)) >= 15, 'Your seed must be at least 15 characters long!'\n",
    "    \n",
    "    seed = int('1' + str(seed)) # final seed is at least 16 characters long, or at least 50 bits\n",
    "    print('seed: ', seed)\n",
    "    # print('binary representation of your seed: ', bin(seed))\n",
    "    gen_input = bin(seed)[2:]\n",
    "    \n",
    "    # Establish parameters for this version of the generator\n",
    "    r = 5\n",
    "    q = 50\n",
    "    \n",
    "    #Generate the specified number of psuedorandom bits\n",
    "    gen_output = gen_input\n",
    "    for bit in range(len(gen_input), len(gen_input) + quantity + 1):\n",
    "        \n",
    "        if gen_output[bit - r] == gen_output[bit - q]:\n",
    "            gen_output = gen_output + '0'\n",
    "        else:\n",
    "            gen_output = gen_output + '1'\n",
    "            \n",
    "    gen_output = gen_output[51:]\n",
    "    print('generated bits: ', len(gen_output))\n",
    "    \n",
    "    return gen_output\n",
    "    "
   ]
  },
  {
   "cell_type": "code",
   "execution_count": 80,
   "id": "97eaa669",
   "metadata": {},
   "outputs": [],
   "source": [
    "def create_prns(bits, L = 5):\n",
    "    # Use the bits generated above to generate Uniform(0,1) PRNs.\n",
    "    \n",
    "    # Split the input into groups of L bits.\n",
    "    num_groups = int(len(bits) / L)\n",
    "    groups = [bits[i : i + L] for i in range(num_groups)]\n",
    "    \n",
    "    # Convert back to decimal; divide each group by 2 ** L to get a PRN\n",
    "    PRNs = [int(group, 2) / 2 ** L for group in groups]\n",
    "    \n",
    "    return PRNs\n",
    "    "
   ]
  },
  {
   "cell_type": "code",
   "execution_count": 81,
   "id": "44db6fed",
   "metadata": {},
   "outputs": [
    {
     "name": "stdout",
     "output_type": "stream",
     "text": [
      "seed:  1123456789101112\n",
      "generated bits:  100\n"
     ]
    },
    {
     "data": {
      "text/plain": [
       "[0.46875,\n",
       " 0.96875,\n",
       " 0.9375,\n",
       " 0.90625,\n",
       " 0.8125,\n",
       " 0.625,\n",
       " 0.25,\n",
       " 0.5,\n",
       " 0.03125,\n",
       " 0.0625,\n",
       " 0.15625,\n",
       " 0.34375,\n",
       " 0.71875,\n",
       " 0.46875,\n",
       " 0.9375,\n",
       " 0.875,\n",
       " 0.78125,\n",
       " 0.5625,\n",
       " 0.15625,\n",
       " 0.34375]"
      ]
     },
     "execution_count": 81,
     "metadata": {},
     "output_type": "execute_result"
    }
   ],
   "source": [
    "create_prns(tausworthe())"
   ]
  },
  {
   "cell_type": "markdown",
   "id": "5e7a0474",
   "metadata": {},
   "source": [
    "### - Code some general tests.\n",
    "#### Runs + autocorrelation for independence, Chi-sq. for goodness of fit"
   ]
  },
  {
   "cell_type": "markdown",
   "id": "3d5be2a9",
   "metadata": {},
   "source": [
    "### - Plot adjacent PRNs on a unit square! Sounds like a job for a loop."
   ]
  },
  {
   "cell_type": "markdown",
   "id": "d49a3fc6",
   "metadata": {},
   "source": [
    "### - Generate a few Nor(0, 1) RVs using the Tausworthe Uniforms.\n",
    "#### Inverse Transform, or something else?"
   ]
  },
  {
   "cell_type": "code",
   "execution_count": null,
   "id": "ab9da606",
   "metadata": {},
   "outputs": [],
   "source": []
  }
 ],
 "metadata": {
  "kernelspec": {
   "display_name": "Python 3 (ipykernel)",
   "language": "python",
   "name": "python3"
  },
  "language_info": {
   "codemirror_mode": {
    "name": "ipython",
    "version": 3
   },
   "file_extension": ".py",
   "mimetype": "text/x-python",
   "name": "python",
   "nbconvert_exporter": "python",
   "pygments_lexer": "ipython3",
   "version": "3.9.13"
  }
 },
 "nbformat": 4,
 "nbformat_minor": 5
}
