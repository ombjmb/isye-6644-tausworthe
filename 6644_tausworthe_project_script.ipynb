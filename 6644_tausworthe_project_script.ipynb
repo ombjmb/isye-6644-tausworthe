{
 "cells": [
  {
   "cell_type": "markdown",
   "id": "d1f67c03",
   "metadata": {},
   "source": [
    "## To begin, let's establish a general order of operations for this project:"
   ]
  },
  {
   "cell_type": "markdown",
   "id": "df12d0cb",
   "metadata": {},
   "source": [
    "### - Research good parameter values for a Tausworthe generator (non-code work)"
   ]
  },
  {
   "cell_type": "markdown",
   "id": "29d878e8",
   "metadata": {},
   "source": [
    "### - Implement the generator."
   ]
  },
  {
   "cell_type": "code",
   "execution_count": 1,
   "id": "1ce3fc4e",
   "metadata": {},
   "outputs": [],
   "source": [
    "def tausworthe(seed = 123456789101112, quantity = 100):\n",
    "    assert type(seed) == int, 'Your seed must be an integer!'\n",
    "    assert len(str(seed)) >= 15, 'Your seed must be at least 15 characters long!'\n",
    "    \n",
    "    seed = int('1' + str(seed)) # final seed is at least 16 characters long, or at least 50 bits\n",
    "    print('seed: ', seed)\n",
    "    # print('binary representation of your seed: ', bin(seed))\n",
    "    gen_input = bin(seed)[2:]\n",
    "    \n",
    "    # Establish parameters for this version of the generator\n",
    "    r = 2\n",
    "    q = 50\n",
    "    \n",
    "    #Generate the specified number of psuedorandom bits\n",
    "    gen_output = gen_input\n",
    "    for bit in range(len(gen_input), len(gen_input) + quantity + 1):\n",
    "        \n",
    "        if gen_output[bit - r] == gen_output[bit - q]:\n",
    "            gen_output = gen_output + '0'\n",
    "        else:\n",
    "            gen_output = gen_output + '1'\n",
    "            \n",
    "    gen_output = gen_output[51:]\n",
    "    print('generated bits: ', len(gen_output))\n",
    "    \n",
    "    return gen_output\n",
    "    "
   ]
  },
  {
   "cell_type": "code",
   "execution_count": 2,
   "id": "3845a6d6",
   "metadata": {},
   "outputs": [],
   "source": [
    "def create_prns(bits, L = 5):\n",
    "    # Use the bits generated above to generate Uniform(0,1) PRNs.\n",
    "    \n",
    "    # Split the input into groups of L bits.\n",
    "    num_groups = len(bits) // L\n",
    "    groups = [bits[i : i + L] for i in range(num_groups)]\n",
    "    \n",
    "    # Convert back to decimal; divide each group by 2 ** L to get a PRN\n",
    "    PRNs = [int(group, 2) / 2 ** L for group in groups]\n",
    "    \n",
    "    return PRNs\n",
    "    "
   ]
  },
  {
   "cell_type": "markdown",
   "id": "5e7a0474",
   "metadata": {},
   "source": [
    "### - Code some general tests.\n",
    "#### Runs for independence, Chi-sq. for goodness of fit"
   ]
  },
  {
   "cell_type": "markdown",
   "id": "30ea91cb",
   "metadata": {},
   "source": [
    "##### Let's start with a chi-square test for GOF. Let's use ten bins of size 0.1 each."
   ]
  },
  {
   "cell_type": "code",
   "execution_count": 3,
   "id": "52e07883",
   "metadata": {},
   "outputs": [
    {
     "name": "stdout",
     "output_type": "stream",
     "text": [
      "seed:  1123456789101112\n",
      "generated bits:  400\n",
      "\n",
      " Sample PRNS: \n",
      " [0.59375, 0.1875, 0.375, 0.75, 0.53125, 0.09375, 0.1875, 0.40625, 0.8125, 0.65625]\n"
     ]
    }
   ],
   "source": [
    "PRNs = create_prns(tausworthe(quantity = 400))\n",
    "print('\\n Sample PRNS: \\n', PRNs[0:10])\n",
    "\n",
    "bins = {0.1: [], 0.2: [], 0.3: [], 0.4: [], 0.5: [], 0.6: [], 0.7: [], 0.8: [], 0.9: [], 1.0: []}\n",
    "for interval in bins:\n",
    "    for PRN in PRNs:\n",
    "        if PRN <= interval and PRN > (interval - 0.1):\n",
    "            bins[interval].append(PRN)\n",
    "# print('\\n Results: \\n', bins)\n"
   ]
  },
  {
   "cell_type": "code",
   "execution_count": 4,
   "id": "9814ff54",
   "metadata": {},
   "outputs": [
    {
     "name": "stdout",
     "output_type": "stream",
     "text": [
      "Chi-sq. statistic:  4.125\n"
     ]
    }
   ],
   "source": [
    "n = len(PRNs)\n",
    "k = len(bins.keys())\n",
    "\n",
    "Ei = n // k\n",
    "\n",
    "Oi = [len(bins[bin]) for bin in bins]\n",
    "\n",
    "chisqs = [(item - Ei) ** 2 / Ei for item in Oi]\n",
    "\n",
    "print('Chi-sq. statistic: ', sum(chisqs))\n"
   ]
  },
  {
   "cell_type": "markdown",
   "id": "644782e2",
   "metadata": {},
   "source": [
    "After referencing the chi-squared table, chisq(0.05, 9) = 16.92. Our statistic is lower than that, so we fail to reject the null hypothesis that our PRNs are Uniforms."
   ]
  },
  {
   "cell_type": "markdown",
   "id": "7b89978e",
   "metadata": {},
   "source": [
    "##### Let's try a runs above / below mean test for independence!"
   ]
  },
  {
   "cell_type": "code",
   "execution_count": 5,
   "id": "b576c203",
   "metadata": {},
   "outputs": [
    {
     "name": "stdout",
     "output_type": "stream",
     "text": [
      "runs:  ['+', '-', '-', '+', '+', '-', '-', '-', '+', '+', '-', '+', '-', '+', '-', '-', '-', '-', '-', '+', '-', '-', '-', '+', '-', '-', '+', '-', '-', '-', '+', '-', '-', '+', '-', '-', '+', '+', '+', '-', '+', '-', '+', '-', '-', '-', '-', '-', '-', '+', '+', '+', '-', '-', '-', '-', '-', '-', '+', '+', '+', '-', '+', '+', '-', '+', '-', '-', '-', '-', '-', '-', '-', '+', '-', '+', '+', '+', '+', '+']\n",
      "\n",
      "number of runs:  37\n"
     ]
    }
   ],
   "source": [
    "runs = [0] * len(PRNs)\n",
    "for i, PRN in enumerate(PRNs):\n",
    "    if PRN > 0.5:\n",
    "        runs[i] = '+'\n",
    "    else:\n",
    "        runs[i] = '-'\n",
    "\n",
    "print('runs: ', runs)\n",
    "\n",
    "run_count = 1\n",
    "\n",
    "for i in range(1, len(runs)):\n",
    "    if runs[i - 1] != runs[i]:\n",
    "        run_count += 1\n",
    "\n",
    "print('\\nnumber of runs: ', run_count)\n"
   ]
  },
  {
   "cell_type": "code",
   "execution_count": 6,
   "id": "b080a2ce",
   "metadata": {},
   "outputs": [
    {
     "name": "stdout",
     "output_type": "stream",
     "text": [
      "Number of runs:  37\n",
      "n:  80 \n",
      "n1:  32 \n",
      "n2:  48\n",
      "\n",
      "Expected number of runs:  38.9\n",
      "\n",
      "Standard dev. of runs:  4.263712057155023\n",
      "\n",
      "Z-statistic:  0.4456210866330829\n"
     ]
    }
   ],
   "source": [
    "B = run_count\n",
    "print('Number of runs: ', B)\n",
    "\n",
    "n = len(PRNs)\n",
    "n1 = len([i for i in PRNs if i > 0.5])\n",
    "n2 = n - n1\n",
    "\n",
    "print('n: ', n, '\\nn1: ', n1, '\\nn2: ', n2)\n",
    "\n",
    "EB = 2 * n1 * n2 / n + 0.5\n",
    "print('\\nExpected number of runs: ', EB)\n",
    "\n",
    "var_part_1 = 2 * n1 * n2\n",
    "var_B = var_part_1 * (var_part_1 - n) / ((n ** 2) * (n - 1))\n",
    "\n",
    "import math\n",
    "print('\\nStandard dev. of runs: ', math.sqrt(var_B))\n",
    "\n",
    "\n",
    "Z = (B - EB) / (math.sqrt(var_B))\n",
    "\n",
    "print('\\nZ-statistic: ', abs(Z))"
   ]
  },
  {
   "cell_type": "markdown",
   "id": "c685f02c",
   "metadata": {},
   "source": [
    "per the tables, the relevant Z-statistic Z(0.025) is roughly 0.51. Therefore, we fail to reject the null hypothesis that these PRNs are independent."
   ]
  },
  {
   "cell_type": "markdown",
   "id": "3d5be2a9",
   "metadata": {},
   "source": [
    "### - Plot adjacent PRNs on a unit square! Sounds like a job for a loop."
   ]
  },
  {
   "cell_type": "code",
   "execution_count": 7,
   "id": "59dbe059",
   "metadata": {},
   "outputs": [
    {
     "data": {
      "text/plain": [
       "Text(0, 0.5, 'PRN Ui+1')"
      ]
     },
     "execution_count": 7,
     "metadata": {},
     "output_type": "execute_result"
    },
    {
     "data": {
      "image/png": "[encoded data removed]",
      "text/plain": [
       "<Figure size 640x480 with 1 Axes>"
      ]
     },
     "metadata": {},
     "output_type": "display_data"
    }
   ],
   "source": [
    "import matplotlib.pyplot as plt\n",
    "\n",
    "x = [PRN for PRN in PRNs[0:n-1]]\n",
    "y = [PRN for PRN in PRNs[1:]]\n",
    "\n",
    "# print(x, '\\n\\n', y)\n",
    "# print('\\n', len(x), '\\n', len(y))\n",
    "# print([i - j for i, j in zip(x, y)])\n",
    "\n",
    "plt.scatter(x, y)\n",
    "plt.xlabel ('PRN Ui')\n",
    "plt.ylabel ('PRN Ui+1')"
   ]
  },
  {
   "cell_type": "markdown",
   "id": "69b1f03d",
   "metadata": {},
   "source": [
    "The generator I've created seems to share the same 'planing' behavior we discussed in LCGs! Although I was initially alarmed upon seeing this result, I'm reassured by the fact that the generator passed our statistical tests. Maybe there are ways to tinker with the parameters to increase the number of planes?"
   ]
  },
  {
   "cell_type": "markdown",
   "id": "d49a3fc6",
   "metadata": {},
   "source": [
    "### - Generate a few Nor(0, 1) RVs using the Tausworthe Uniforms.\n",
    "#### Inverse Transform, or something else?\n",
    "There is no closed-form inverse CDF for the standard normal distribution. We can, however, use a workaround discussed in class: look the value up in the Z-table!"
   ]
  },
  {
   "cell_type": "code",
   "execution_count": 23,
   "id": "ab9da606",
   "metadata": {},
   "outputs": [
    {
     "name": "stdout",
     "output_type": "stream",
     "text": [
      "'inverse transformed' standard normals:\n",
      " [0.23720210932878769, -0.887146559018876, -0.31863936396437514, 0.6744897501960817, 0.0784124127331122, -1.318010897303537, -0.887146559018876, -0.23720210932878769, 0.887146559018876, 0.40225006532172536]\n",
      "\n",
      "sample size:  77\n"
     ]
    },
    {
     "data": {
      "text/plain": [
       "(array([ 8.,  8.,  6., 10.,  9., 13., 11.,  5.,  4.,  3.]),\n",
       " array([-1.86273187, -1.49018549, -1.11763912, -0.74509275, -0.37254637,\n",
       "         0.        ,  0.37254637,  0.74509275,  1.11763912,  1.49018549,\n",
       "         1.86273187]),\n",
       " <BarContainer object of 10 artists>)"
      ]
     },
     "execution_count": 23,
     "metadata": {},
     "output_type": "execute_result"
    },
    {
     "data": {
      "image/png": "[encoded data removed]",
      "text/plain": [
       "<Figure size 640x480 with 1 Axes>"
      ]
     },
     "metadata": {},
     "output_type": "display_data"
    }
   ],
   "source": [
    "import scipy.stats as st\n",
    "\n",
    "norms = [st.norm.ppf(PRN) for PRN in PRNs if PRN != 0.0]\n",
    "print(\"'inverse transformed' standard normals:\\n\", norms[0:10])\n",
    "print('\\nsample size: ', len(norms))\n",
    "\n",
    "plt.hist(norms)"
   ]
  },
  {
   "cell_type": "markdown",
   "id": "4e24f309",
   "metadata": {},
   "source": [
    "This is a somewhat questionable Normal(0, 1) histogram, but you get the idea! This could be due to the sample size."
   ]
  }
 ],
 "metadata": {
  "kernelspec": {
   "display_name": "Python 3 (ipykernel)",
   "language": "python",
   "name": "python3"
  },
  "language_info": {
   "codemirror_mode": {
    "name": "ipython",
    "version": 3
   },
   "file_extension": ".py",
   "mimetype": "text/x-python",
   "name": "python",
   "nbconvert_exporter": "python",
   "pygments_lexer": "ipython3",
   "version": "3.9.13"
  }
 },
 "nbformat": 4,
 "nbformat_minor": 5
}
