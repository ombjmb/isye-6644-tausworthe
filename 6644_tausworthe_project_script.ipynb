{
 "cells": [
  {
   "cell_type": "markdown",
   "id": "d1f67c03",
   "metadata": {},
   "source": [
    "## To begin, let's establish a general order of operations for this project:"
   ]
  },
  {
   "cell_type": "markdown",
   "id": "df12d0cb",
   "metadata": {},
   "source": [
    "### - Research good parameter values for a Tausworthe generator (non-code work)"
   ]
  },
  {
   "cell_type": "markdown",
   "id": "29d878e8",
   "metadata": {},
   "source": [
    "### - Implement the generator.\n",
    "#### (store the outputs in list format, for easy computation in later steps!)"
   ]
  },
  {
   "cell_type": "code",
   "execution_count": 57,
   "id": "d2eb7e18",
   "metadata": {},
   "outputs": [],
   "source": [
    "def tausworthe(seed = 123456789101112, quantity = 100):\n",
    "    assert type(seed) == int, 'Your seed must be an integer!'\n",
    "    assert len(str(seed)) >= 15, 'Your seed must be at least 15 characters long!'\n",
    "    \n",
    "    seed = int('1' + str(seed)) # final seed is at least 16 characters long, or at least 50 bits\n",
    "    print('seed: ', seed)\n",
    "    # print('binary representation of your seed: ', bin(seed))\n",
    "    gen_input = bin(seed)[2:]\n",
    "    \n",
    "    # Establish parameters for this version of the generator\n",
    "    r = 5\n",
    "    q = 50\n",
    "    \n",
    "    #Generate the specified number of psuedorandom bits\n",
    "    gen_output = list(gen_input) + (['0'] * (quantity + 1))\n",
    "    for bit in range(51, 151):\n",
    "        \n",
    "        if gen_output[bit - r] == gen_output[bit - q]:\n",
    "            gen_output[bit] = '0'\n",
    "        else:\n",
    "            gen_output[bit] = '1'\n",
    "            \n",
    "    gen_output = gen_output[51:]\n",
    "    print('generated bits: ', len(gen_output))\n",
    "    return gen_output\n",
    "    "
   ]
  },
  {
   "cell_type": "code",
   "execution_count": null,
   "id": "66240bda",
   "metadata": {},
   "outputs": [],
   "source": []
  },
  {
   "cell_type": "code",
   "execution_count": null,
   "id": "6b2f7f32",
   "metadata": {},
   "outputs": [],
   "source": []
  },
  {
   "cell_type": "markdown",
   "id": "5e7a0474",
   "metadata": {},
   "source": [
    "### - Code some general tests.\n",
    "#### Runs + autocorrelation for independence, Chi-sq. for goodness of fit"
   ]
  },
  {
   "cell_type": "markdown",
   "id": "3d5be2a9",
   "metadata": {},
   "source": [
    "### - Plot adjacent PRNs on a unit square! Sounds like a job for a loop."
   ]
  },
  {
   "cell_type": "markdown",
   "id": "d49a3fc6",
   "metadata": {},
   "source": [
    "### - Generate a few Nor(0, 1) RVs using the Tausworthe Uniforms.\n",
    "#### Inverse Transform, or something else?"
   ]
  },
  {
   "cell_type": "code",
   "execution_count": null,
   "id": "ab9da606",
   "metadata": {},
   "outputs": [],
   "source": []
  }
 ],
 "metadata": {
  "kernelspec": {
   "display_name": "Python 3 (ipykernel)",
   "language": "python",
   "name": "python3"
  },
  "language_info": {
   "codemirror_mode": {
    "name": "ipython",
    "version": 3
   },
   "file_extension": ".py",
   "mimetype": "text/x-python",
   "name": "python",
   "nbconvert_exporter": "python",
   "pygments_lexer": "ipython3",
   "version": "3.9.13"
  }
 },
 "nbformat": 4,
 "nbformat_minor": 5
}
