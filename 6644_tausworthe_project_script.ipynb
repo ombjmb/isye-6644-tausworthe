{
 "cells": [
  {
   "cell_type": "markdown",
   "id": "d1f67c03",
   "metadata": {},
   "source": [
    "## To begin, let's establish a general order of operations for this project:"
   ]
  },
  {
   "cell_type": "markdown",
   "id": "df12d0cb",
   "metadata": {},
   "source": [
    "### - Research good parameter values for a Tausworthe generator (non-code work)"
   ]
  },
  {
   "cell_type": "markdown",
   "id": "29d878e8",
   "metadata": {},
   "source": [
    "### - Implement the generator."
   ]
  },
  {
   "cell_type": "code",
   "execution_count": 1,
   "id": "9cc292e0",
   "metadata": {},
   "outputs": [],
   "source": [
    "def tausworthe(seed = 123456789101112, quantity = 100):\n",
    "    assert type(seed) == int, 'Your seed must be an integer!'\n",
    "    assert len(str(seed)) >= 15, 'Your seed must be at least 15 characters long!'\n",
    "    \n",
    "    seed = int('1' + str(seed)) # final seed is at least 16 characters long, or at least 50 bits\n",
    "    print('seed: ', seed)\n",
    "    # print('binary representation of your seed: ', bin(seed))\n",
    "    gen_input = bin(seed)[2:]\n",
    "    \n",
    "    # Establish parameters for this version of the generator\n",
    "    r = 5\n",
    "    q = 50\n",
    "    \n",
    "    #Generate the specified number of psuedorandom bits\n",
    "    gen_output = gen_input\n",
    "    for bit in range(len(gen_input), len(gen_input) + quantity + 1):\n",
    "        \n",
    "        if gen_output[bit - r] == gen_output[bit - q]:\n",
    "            gen_output = gen_output + '0'\n",
    "        else:\n",
    "            gen_output = gen_output + '1'\n",
    "            \n",
    "    gen_output = gen_output[51:]\n",
    "    print('generated bits: ', len(gen_output))\n",
    "    \n",
    "    return gen_output\n",
    "    "
   ]
  },
  {
   "cell_type": "code",
   "execution_count": 2,
   "id": "66b306d8",
   "metadata": {},
   "outputs": [],
   "source": [
    "def create_prns(bits, L = 5):\n",
    "    # Use the bits generated above to generate Uniform(0,1) PRNs.\n",
    "    \n",
    "    # Split the input into groups of L bits.\n",
    "    num_groups = len(bits) // L\n",
    "    groups = [bits[i : i + L] for i in range(num_groups)]\n",
    "    \n",
    "    # Convert back to decimal; divide each group by 2 ** L to get a PRN\n",
    "    PRNs = [int(group, 2) / 2 ** L for group in groups]\n",
    "    \n",
    "    return PRNs\n",
    "    "
   ]
  },
  {
   "cell_type": "markdown",
   "id": "5e7a0474",
   "metadata": {},
   "source": [
    "### - Code some general tests.\n",
    "#### Runs for independence, Chi-sq. for goodness of fit"
   ]
  },
  {
   "cell_type": "markdown",
   "id": "2cad6416",
   "metadata": {},
   "source": [
    "##### Let's start with a chi-square test for GOF. Let's use four bins of size 0.25 each."
   ]
  },
  {
   "cell_type": "code",
   "execution_count": 3,
   "id": "ca7dbbf7",
   "metadata": {},
   "outputs": [
    {
     "name": "stdout",
     "output_type": "stream",
     "text": [
      "seed:  1123456789101112\n",
      "generated bits:  400\n",
      "\n",
      " PRNS: \n",
      " [0.46875, 0.96875, 0.9375, 0.90625, 0.8125, 0.625, 0.25, 0.5, 0.03125, 0.0625, 0.15625, 0.34375, 0.71875, 0.46875, 0.9375, 0.875, 0.78125, 0.5625, 0.15625, 0.34375, 0.6875, 0.375, 0.78125, 0.59375, 0.1875, 0.375, 0.78125, 0.59375, 0.1875, 0.40625, 0.8125, 0.625, 0.25, 0.53125, 0.09375, 0.21875, 0.4375, 0.875, 0.78125, 0.5625, 0.125, 0.28125, 0.5625, 0.15625, 0.3125, 0.625, 0.28125, 0.59375, 0.1875, 0.40625, 0.84375, 0.6875, 0.40625, 0.84375, 0.71875, 0.46875, 0.9375, 0.90625, 0.8125, 0.65625, 0.3125, 0.65625, 0.3125, 0.65625, 0.34375, 0.6875, 0.375, 0.75, 0.5, 0.0, 0.0, 0.0, 0.03125, 0.09375, 0.1875, 0.375, 0.78125, 0.5625, 0.15625, 0.34375]\n"
     ]
    }
   ],
   "source": [
    "PRNs = create_prns(tausworthe(quantity = 400))\n",
    "print('\\n PRNS: \\n', PRNs)\n",
    "\n",
    "bins = {0.25: [], 0.5: [], 0.75: [], 1.0: []}\n",
    "for interval in bins:\n",
    "    for PRN in PRNs:\n",
    "        if PRN <= interval and PRN > (interval - 0.25):\n",
    "            bins[interval].append(PRN)\n",
    "# print('\\n Results: \\n', bins)\n"
   ]
  },
  {
   "cell_type": "code",
   "execution_count": 4,
   "id": "5f2ca8e7",
   "metadata": {},
   "outputs": [
    {
     "name": "stdout",
     "output_type": "stream",
     "text": [
      "Chi-sq. statistic:  0.8500000000000001\n"
     ]
    }
   ],
   "source": [
    "n = len(PRNs)\n",
    "k = len(bins.keys())\n",
    "\n",
    "Ei = n // k\n",
    "\n",
    "Oi = [len(bins[bin]) for bin in bins]\n",
    "\n",
    "chisqs = [(item - Ei) ** 2 / Ei for item in Oi]\n",
    "\n",
    "print('Chi-sq. statistic: ', sum(chisqs))\n"
   ]
  },
  {
   "cell_type": "markdown",
   "id": "533d9315",
   "metadata": {},
   "source": [
    "After referencing the chi-squared table, chisq(0.05, 3) = 7.81. Our statistic is lower than that, so we fail to reject the null hypothesis that our PRNs are Uniforms."
   ]
  },
  {
   "cell_type": "markdown",
   "id": "fd8179f9",
   "metadata": {},
   "source": [
    "##### Let's try a runs above / below mean test for independence!"
   ]
  },
  {
   "cell_type": "code",
   "execution_count": 5,
   "id": "762363f5",
   "metadata": {},
   "outputs": [
    {
     "name": "stdout",
     "output_type": "stream",
     "text": [
      "runs:  ['-', '+', '+', '+', '+', '+', '-', '-', '-', '-', '-', '-', '+', '-', '+', '+', '+', '+', '-', '-', '+', '-', '+', '+', '-', '-', '+', '+', '-', '-', '+', '+', '-', '+', '-', '-', '-', '+', '+', '+', '-', '-', '+', '-', '-', '+', '-', '+', '-', '-', '+', '+', '-', '+', '+', '-', '+', '+', '+', '+', '-', '+', '-', '+', '-', '+', '-', '+', '-', '-', '-', '-', '-', '-', '-', '-', '+', '+', '-', '-']\n",
      "\n",
      "number of runs:  41\n"
     ]
    }
   ],
   "source": [
    "runs = [0] * len(PRNs)\n",
    "for i, PRN in enumerate(PRNs):\n",
    "    if PRN > 0.5:\n",
    "        runs[i] = '+'\n",
    "    else:\n",
    "        runs[i] = '-'\n",
    "\n",
    "print('runs: ', runs)\n",
    "\n",
    "run_count = 1\n",
    "\n",
    "for i in range(1, len(runs)):\n",
    "    if runs[i - 1] != runs[i]:\n",
    "        run_count += 1\n",
    "\n",
    "print('\\nnumber of runs: ', run_count)\n"
   ]
  },
  {
   "cell_type": "code",
   "execution_count": 6,
   "id": "64ac35e7",
   "metadata": {},
   "outputs": [
    {
     "name": "stdout",
     "output_type": "stream",
     "text": [
      "n:  80 \n",
      "n1:  38 \n",
      "n2:  42\n",
      "\n",
      "Expected number of runs:  40.4\n",
      "\n",
      "Standard dev. of runs:  4.432489371145345\n",
      "\n",
      "Z-statistic:  0.1353641147807113\n"
     ]
    }
   ],
   "source": [
    "B = run_count\n",
    "\n",
    "n = len(PRNs)\n",
    "n1 = len([i for i in PRNs if i > 0.5])\n",
    "n2 = n - n1\n",
    "\n",
    "print('n: ', n, '\\nn1: ', n1, '\\nn2: ', n2)\n",
    "\n",
    "EB = 2 * n1 * n2 / n + 0.5\n",
    "print('\\nExpected number of runs: ', EB)\n",
    "\n",
    "var_part_1 = 2 * n1 * n2\n",
    "var_B = var_part_1 * (var_part_1 - n) / ((n ** 2) * (n - 1))\n",
    "\n",
    "import math\n",
    "print('\\nStandard dev. of runs: ', math.sqrt(var_B))\n",
    "\n",
    "\n",
    "Z = (B - EB) / (math.sqrt(var_B))\n",
    "\n",
    "print('\\nZ-statistic: ', Z)"
   ]
  },
  {
   "cell_type": "markdown",
   "id": "af047431",
   "metadata": {},
   "source": [
    "per the tables, the relevant Z-statistic Z(0.025) is roughly 0.51. Therefore, we fail to reject the null hypothesis that these PRNs are independent."
   ]
  },
  {
   "cell_type": "markdown",
   "id": "3d5be2a9",
   "metadata": {},
   "source": [
    "### - Plot adjacent PRNs on a unit square! Sounds like a job for a loop."
   ]
  },
  {
   "cell_type": "code",
   "execution_count": null,
   "id": "5f43b805",
   "metadata": {},
   "outputs": [],
   "source": []
  },
  {
   "cell_type": "markdown",
   "id": "d49a3fc6",
   "metadata": {},
   "source": [
    "### - Generate a few Nor(0, 1) RVs using the Tausworthe Uniforms.\n",
    "#### Inverse Transform, or something else?"
   ]
  },
  {
   "cell_type": "code",
   "execution_count": null,
   "id": "ab9da606",
   "metadata": {},
   "outputs": [],
   "source": []
  }
 ],
 "metadata": {
  "kernelspec": {
   "display_name": "Python 3 (ipykernel)",
   "language": "python",
   "name": "python3"
  },
  "language_info": {
   "codemirror_mode": {
    "name": "ipython",
    "version": 3
   },
   "file_extension": ".py",
   "mimetype": "text/x-python",
   "name": "python",
   "nbconvert_exporter": "python",
   "pygments_lexer": "ipython3",
   "version": "3.9.13"
  }
 },
 "nbformat": 4,
 "nbformat_minor": 5
}
