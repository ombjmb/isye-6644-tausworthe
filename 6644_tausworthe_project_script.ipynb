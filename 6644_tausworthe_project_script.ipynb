{
 "cells": [
  {
   "cell_type": "markdown",
   "id": "d1f67c03",
   "metadata": {},
   "source": [
    "## To begin, let's establish a general order of operations for this project:"
   ]
  },
  {
   "cell_type": "markdown",
   "id": "df12d0cb",
   "metadata": {},
   "source": [
    "### - Research good parameter values for a Tausworthe generator (non-code work)"
   ]
  },
  {
   "cell_type": "markdown",
   "id": "29d878e8",
   "metadata": {},
   "source": [
    "### - Implement the generator.\n",
    "#### (store the outputs in list format, for easy computation in later steps!)"
   ]
  },
  {
   "cell_type": "markdown",
   "id": "5e7a0474",
   "metadata": {},
   "source": [
    "### - Code some general tests.\n",
    "#### Runs + autocorrelation for independence, Chi-sq. for goodness of fit"
   ]
  },
  {
   "cell_type": "markdown",
   "id": "3d5be2a9",
   "metadata": {},
   "source": [
    "### - Plot adjacent PRNs on a unit square! Sounds like a job for a loop."
   ]
  },
  {
   "cell_type": "markdown",
   "id": "d49a3fc6",
   "metadata": {},
   "source": [
    "### - Generate a few Nor(0, 1) RVs using the Tausworthe Uniforms.\n",
    "#### Inverse Transform, or something else?"
   ]
  },
  {
   "cell_type": "code",
   "execution_count": null,
   "id": "ab9da606",
   "metadata": {},
   "outputs": [],
   "source": []
  }
 ],
 "metadata": {
  "kernelspec": {
   "display_name": "Python 3 (ipykernel)",
   "language": "python",
   "name": "python3"
  },
  "language_info": {
   "codemirror_mode": {
    "name": "ipython",
    "version": 3
   },
   "file_extension": ".py",
   "mimetype": "text/x-python",
   "name": "python",
   "nbconvert_exporter": "python",
   "pygments_lexer": "ipython3",
   "version": "3.9.13"
  }
 },
 "nbformat": 4,
 "nbformat_minor": 5
}
